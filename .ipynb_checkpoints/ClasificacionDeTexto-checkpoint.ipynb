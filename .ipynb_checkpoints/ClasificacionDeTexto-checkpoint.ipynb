{
 "cells": [
  {
   "cell_type": "code",
   "execution_count": 1,
   "id": "f005da3d-8bdc-406b-9bf3-9e9f98f1ebf3",
   "metadata": {
    "ExecuteTime": {
     "end_time": "2025-03-08T02:43:12.890774Z",
     "start_time": "2025-03-08T02:43:08.050407Z"
    }
   },
   "outputs": [
    {
     "data": {
      "text/plain": [
       "True"
      ]
     },
     "execution_count": 1,
     "metadata": {},
     "output_type": "execute_result"
    }
   ],
   "source": [
    "# Librerias\n",
    "\n",
    "import pandas as pd\n",
    "import numpy as np\n",
    "import pickle\n",
    "import nltk\n",
    "from nltk.corpus import stopwords\n",
    "from nltk.stem import WordNetLemmatizer\n",
    "import re\n",
    "import matplotlib.pyplot as plt\n",
    "from nltk.tokenize import word_tokenize\n",
    "from gensim.models import Word2Vec\n",
    "from sklearn.preprocessing import MaxAbsScaler\n",
    "from sklearn.model_selection import train_test_split\n",
    "from sklearn.decomposition import PCA\n",
    "from sklearn.metrics import classification_report, accuracy_score, precision_score, recall_score, f1_score\n",
    "from sklearn.pipeline import Pipeline, FeatureUnion\n",
    "#from sklearn.model_selection import GridSearchCV\n",
    "from sklearn.feature_extraction.text import TfidfVectorizer\n",
    "from xgboost.sklearn import XGBClassifier\n",
    "from sklearn.linear_model import LogisticRegression\n",
    "\n",
    "\n",
    "from nltk.sentiment import SentimentIntensityAnalyzer\n",
    "from sklearn.base import BaseEstimator, TransformerMixin\n",
    "nltk.download('stopwords', quiet=True)\n",
    "nltk.download('wordnet', quiet=True)"
   ]
  },
  {
   "cell_type": "code",
   "execution_count": 2,
   "id": "4e1abb77-a15d-4418-bf1f-d1c452795991",
   "metadata": {
    "ExecuteTime": {
     "end_time": "2025-03-08T02:43:15.125372Z",
     "start_time": "2025-03-08T02:43:15.108934Z"
    }
   },
   "outputs": [
    {
     "data": {
      "text/html": [
       "<div>\n",
       "<style scoped>\n",
       "    .dataframe tbody tr th:only-of-type {\n",
       "        vertical-align: middle;\n",
       "    }\n",
       "\n",
       "    .dataframe tbody tr th {\n",
       "        vertical-align: top;\n",
       "    }\n",
       "\n",
       "    .dataframe thead th {\n",
       "        text-align: right;\n",
       "    }\n",
       "</style>\n",
       "<table border=\"1\" class=\"dataframe\">\n",
       "  <thead>\n",
       "    <tr style=\"text-align: right;\">\n",
       "      <th></th>\n",
       "      <th>ID</th>\n",
       "      <th>label</th>\n",
       "    </tr>\n",
       "  </thead>\n",
       "  <tbody>\n",
       "    <tr>\n",
       "      <th>0</th>\n",
       "      <td>1</td>\n",
       "      <td>0</td>\n",
       "    </tr>\n",
       "    <tr>\n",
       "      <th>1</th>\n",
       "      <td>2</td>\n",
       "      <td>0</td>\n",
       "    </tr>\n",
       "    <tr>\n",
       "      <th>2</th>\n",
       "      <td>3</td>\n",
       "      <td>0</td>\n",
       "    </tr>\n",
       "    <tr>\n",
       "      <th>3</th>\n",
       "      <td>4</td>\n",
       "      <td>0</td>\n",
       "    </tr>\n",
       "    <tr>\n",
       "      <th>4</th>\n",
       "      <td>5</td>\n",
       "      <td>0</td>\n",
       "    </tr>\n",
       "  </tbody>\n",
       "</table>\n",
       "</div>"
      ],
      "text/plain": [
       "   ID  label\n",
       "0   1      0\n",
       "1   2      0\n",
       "2   3      0\n",
       "3   4      0\n",
       "4   5      0"
      ]
     },
     "execution_count": 2,
     "metadata": {},
     "output_type": "execute_result"
    }
   ],
   "source": [
    "# Ver el ejemplo de entrega\n",
    "\n",
    "submission_example = pd.read_csv('data/sample_submission.csv', sep = ',')\n",
    "submission_example.head(5)"
   ]
  },
  {
   "cell_type": "code",
   "execution_count": 3,
   "id": "9bce9069-f041-449b-98d2-4a97cb0ffd48",
   "metadata": {
    "ExecuteTime": {
     "end_time": "2025-03-08T02:43:18.242512Z",
     "start_time": "2025-03-08T02:43:18.122323Z"
    }
   },
   "outputs": [
    {
     "name": "stdout",
     "output_type": "stream",
     "text": [
      "Total de datos = 181452\n"
     ]
    },
    {
     "data": {
      "text/html": [
       "<div>\n",
       "<style scoped>\n",
       "    .dataframe tbody tr th:only-of-type {\n",
       "        vertical-align: middle;\n",
       "    }\n",
       "\n",
       "    .dataframe tbody tr th {\n",
       "        vertical-align: top;\n",
       "    }\n",
       "\n",
       "    .dataframe thead th {\n",
       "        text-align: right;\n",
       "    }\n",
       "</style>\n",
       "<table border=\"1\" class=\"dataframe\">\n",
       "  <thead>\n",
       "    <tr style=\"text-align: right;\">\n",
       "      <th></th>\n",
       "      <th>text</th>\n",
       "      <th>book</th>\n",
       "      <th>label</th>\n",
       "    </tr>\n",
       "  </thead>\n",
       "  <tbody>\n",
       "    <tr>\n",
       "      <th>0</th>\n",
       "      <td>Look at his legs!”\\r\\n“Confound you handsome y...</td>\n",
       "      <td>Middlemarch</td>\n",
       "      <td>1</td>\n",
       "    </tr>\n",
       "    <tr>\n",
       "      <th>1</th>\n",
       "      <td>Meanwhile Mr. Pickwick had been wheeled to the...</td>\n",
       "      <td>The_Pickwick_Papers</td>\n",
       "      <td>0</td>\n",
       "    </tr>\n",
       "    <tr>\n",
       "      <th>2</th>\n",
       "      <td>Rose had been in high spirits, too, and they h...</td>\n",
       "      <td>Oliver_Twist</td>\n",
       "      <td>0</td>\n",
       "    </tr>\n",
       "    <tr>\n",
       "      <th>3</th>\n",
       "      <td>He\\r\\nheld his breath, and listened at the key...</td>\n",
       "      <td>The_Pickwick_Papers</td>\n",
       "      <td>0</td>\n",
       "    </tr>\n",
       "    <tr>\n",
       "      <th>4</th>\n",
       "      <td>On hearing this most unexpected sound, Mr. Bum...</td>\n",
       "      <td>Oliver_Twist</td>\n",
       "      <td>0</td>\n",
       "    </tr>\n",
       "  </tbody>\n",
       "</table>\n",
       "</div>"
      ],
      "text/plain": [
       "                                                text                 book  \\\n",
       "0  Look at his legs!”\\r\\n“Confound you handsome y...          Middlemarch   \n",
       "1  Meanwhile Mr. Pickwick had been wheeled to the...  The_Pickwick_Papers   \n",
       "2  Rose had been in high spirits, too, and they h...         Oliver_Twist   \n",
       "3  He\\r\\nheld his breath, and listened at the key...  The_Pickwick_Papers   \n",
       "4  On hearing this most unexpected sound, Mr. Bum...         Oliver_Twist   \n",
       "\n",
       "   label  \n",
       "0      1  \n",
       "1      0  \n",
       "2      0  \n",
       "3      0  \n",
       "4      0  "
      ]
     },
     "execution_count": 3,
     "metadata": {},
     "output_type": "execute_result"
    }
   ],
   "source": [
    "# Importar los datos\n",
    "\n",
    "training_raw = pd.read_csv('data/train.csv', sep = ',')\n",
    "print(f'Total de datos = {training_raw.size}')\n",
    "training_raw.head(5)"
   ]
  },
  {
   "cell_type": "code",
   "execution_count": 4,
   "id": "2aa5a54b-8551-40b2-a4d6-4f42c17fd41f",
   "metadata": {
    "ExecuteTime": {
     "end_time": "2025-03-08T02:43:20.886418Z",
     "start_time": "2025-03-08T02:43:20.785278Z"
    }
   },
   "outputs": [
    {
     "name": "stdout",
     "output_type": "stream",
     "text": [
      "Muestras para la clase 1: 16263\n",
      "Muestras para la clase 0: 26096\n",
      "Muestras para la clase 2: 9585\n",
      "Muestras para la clase 3: 4448\n",
      "Muestras para la clase 4: 4092\n"
     ]
    },
    {
     "data": {
      "image/png": "[encoded data removed]",
      "text/plain": [
       "<Figure size 300x300 with 1 Axes>"
      ]
     },
     "metadata": {},
     "output_type": "display_data"
    }
   ],
   "source": [
    "# Checkear las etiquetas\n",
    "\n",
    "labels = training_raw['label'].unique()\n",
    "plt.figure(figsize = (3, 3)) \n",
    "training_raw['label'].value_counts().plot(kind='pie')\n",
    "\n",
    "for x in labels:\n",
    "    count = training_raw['label'].value_counts().get(x, 0)\n",
    "    print(f'Muestras para la clase {x}: {count}')"
   ]
  },
  {
   "cell_type": "code",
   "execution_count": 5,
   "id": "6c344f66-ce94-4e6c-b8a3-6f15b3e25698",
   "metadata": {
    "ExecuteTime": {
     "end_time": "2025-03-08T02:43:41.417740Z",
     "start_time": "2025-03-08T02:43:41.362478Z"
    }
   },
   "outputs": [
    {
     "name": "stdout",
     "output_type": "stream",
     "text": [
      "Duplicados: 3\n",
      "Nulos: 0\n"
     ]
    }
   ],
   "source": [
    "# Verificación de Duplicados y datos incompletos\n",
    "\n",
    "print(f'Duplicados: {training_raw.duplicated().sum()}')\n",
    "print(f'Nulos: {training_raw.isna().sum().sum()}')"
   ]
  },
  {
   "cell_type": "code",
   "execution_count": 6,
   "id": "434b515d-7ee1-4caa-8e35-fdea96ed1009",
   "metadata": {
    "ExecuteTime": {
     "end_time": "2025-03-08T02:43:48.714579Z",
     "start_time": "2025-03-08T02:43:48.712058Z"
    }
   },
   "outputs": [],
   "source": [
    "# Balanceo de los datos quizas?"
   ]
  },
  {
   "cell_type": "code",
   "execution_count": null,
   "id": "84e2e656-358d-4f2a-8cd8-09aecc29ea22",
   "metadata": {
    "ExecuteTime": {
     "end_time": "2025-03-08T02:43:53.522781Z",
     "start_time": "2025-03-08T02:43:53.520362Z"
    }
   },
   "outputs": [],
   "source": []
  },
  {
   "cell_type": "code",
   "execution_count": 7,
   "id": "bb17a3f6-764e-48a6-a0b3-2d901dc8f417",
   "metadata": {
    "ExecuteTime": {
     "end_time": "2025-03-08T02:43:44.270421Z",
     "start_time": "2025-03-08T02:43:44.261832Z"
    }
   },
   "outputs": [],
   "source": [
    "# Split de los datos\n",
    "\n",
    "X = training_raw['text']\n",
    "y = training_raw['label']\n",
    "X_train, X_test, y_train, y_test = train_test_split(X, y, test_size=0.2)"
   ]
  },
  {
   "cell_type": "code",
   "execution_count": 8,
   "id": "1e2ae0b2-d461-438b-82ec-3467b59a9cfe",
   "metadata": {},
   "outputs": [],
   "source": [
    "class TextClassifier(BaseEstimator, TransformerMixin):\n",
    "    def __init__(self):\n",
    "\n",
    "        self.stop_words = set(stopwords.words('english'))\n",
    "        self.lemmatizer = WordNetLemmatizer()\n",
    "        self.vectorizer = None\n",
    "        self.pipeline = None\n",
    "\n",
    "    def preprocess_text(self, X):\n",
    "        text = X.lower()\n",
    "        text = re.sub(r'[^a-zA-Z0-9\\s]', '', text)  # Eliminar puntuación y caracteres especiales\n",
    "        text = re.sub(r'\\s+', ' ', text).strip()  # Eliminar espacios extra\n",
    "        text = ' '.join([word for word in text.split() if word not in self.stop_words])  # Eliminar stopwords\n",
    "        text = ' '.join([self.lemmatizer.lemmatize(word) for word in text.split()])  # Lematización\n",
    "        return text\n",
    "\n",
    "    def fit(self, X, y):\n",
    "        self.vectorizer = TfidfVectorizer(max_features=100000)\n",
    "        X_processed = [self.preprocess_text(line) for line in X]\n",
    "\n",
    "        self.pipeline = Pipeline([\n",
    "            ('feature_union', FeatureUnion([\n",
    "                (\"tfidf\", TfidfVectorizer(max_features=50000, ngram_range=(1, 5),sublinear_tf=True)),\n",
    "                ('sentiment_analysis', TextToSentiment())                \n",
    "            ])),         \n",
    "            (\"scaler\", MaxAbsScaler()),\n",
    "            (\"classifier\", LogisticRegression(solver = 'saga', max_iter = 1500))\n",
    "        ])\n",
    "       \n",
    "        self.pipeline.fit(X_processed,y)\n",
    "        return self\n",
    "    \n",
    "        \n",
    "    def predict(self, X):\n",
    "        X_processed = [self.preprocess_text(line) for line in X]\n",
    "        return self.pipeline.predict(X_processed)\n",
    "\n",
    "#-------------------------------------------------------------------------------------------------------------------------------------------------------\n",
    "\n",
    "class TextToSentiment(BaseEstimator, TransformerMixin):\n",
    "    def __init__(self):\n",
    "        self.analizer = SentimentIntensityAnalyzer()\n",
    "\n",
    "    def fit(self, X, y=None):\n",
    "        return self\n",
    "\n",
    "    def transform(self, X):\n",
    "        sentiment_scores = np.array([[scores['neg'], scores['neu'], scores['pos'], scores['compound']] for scores in (self.analizer.polarity_scores(line) for line in X)])\n",
    "        return sentiment_scores"
   ]
  },
  {
   "cell_type": "code",
   "execution_count": 9,
   "id": "e9bb364f-144c-4024-bf48-ec87731c8445",
   "metadata": {
    "scrolled": true
   },
   "outputs": [
    {
     "name": "stdout",
     "output_type": "stream",
     "text": [
      "              precision    recall  f1-score   support\n",
      "\n",
      "           0       0.85      0.92      0.88      5257\n",
      "           1       0.84      0.85      0.85      3186\n",
      "           2       0.84      0.79      0.82      1882\n",
      "           3       0.90      0.63      0.74       914\n",
      "           4       0.90      0.81      0.85       858\n",
      "\n",
      "    accuracy                           0.85     12097\n",
      "   macro avg       0.87      0.80      0.83     12097\n",
      "weighted avg       0.85      0.85      0.85     12097\n",
      "\n"
     ]
    }
   ],
   "source": [
    "model = TextClassifier()\n",
    "model.fit(X_train, y_train)\n",
    "\n",
    "# Evaluación en conjunto de Evaluacion\n",
    "y_pred = model.predict(X_test)\n",
    "print(classification_report(y_test, y_pred))"
   ]
  },
  {
   "cell_type": "code",
   "execution_count": 24,
   "id": "84d2bb90-cc8f-4df9-8981-f51fe9a5236c",
   "metadata": {},
   "outputs": [
    {
     "name": "stdout",
     "output_type": "stream",
     "text": [
      "\n",
      " >> Resultados en Evaluación: <<\n",
      "  - Accuracy: 0.8533\n",
      "  - Precision: 0.8673\n",
      "  - Recall: 0.8018\n",
      "  - F1 Score: 0.8290\n"
     ]
    }
   ],
   "source": [
    "accuracy = accuracy_score(y_test, y_pred)\n",
    "precision = precision_score(y_test, y_pred, average='macro')\n",
    "recall = recall_score(y_test, y_pred, average='macro')\n",
    "f1 = f1_score(y_test, y_pred, average='macro')\n",
    "\n",
    "print(\"\\n >> Resultados en Evaluación: <<\")\n",
    "print(f\"  - Accuracy: {accuracy:.4f}\")\n",
    "print(f\"  - Precision: {precision:.4f}\")\n",
    "print(f\"  - Recall: {recall:.4f}\")\n",
    "print(f\"  - F1 Score: {f1:.4f}\")"
   ]
  },
  {
   "cell_type": "code",
   "execution_count": null,
   "id": "fd434d83-4772-4706-a82f-d6615d0e3740",
   "metadata": {},
   "outputs": [],
   "source": []
  },
  {
   "cell_type": "code",
   "execution_count": null,
   "id": "50d76abe-79c7-44fd-b834-a134f8491217",
   "metadata": {},
   "outputs": [],
   "source": []
  }
 ],
 "metadata": {
  "kernelspec": {
   "display_name": "Python 3 (ipykernel)",
   "language": "python",
   "name": "python3"
  },
  "language_info": {
   "codemirror_mode": {
    "name": "ipython",
    "version": 3
   },
   "file_extension": ".py",
   "mimetype": "text/x-python",
   "name": "python",
   "nbconvert_exporter": "python",
   "pygments_lexer": "ipython3",
   "version": "3.11.5"
  }
 },
 "nbformat": 4,
 "nbformat_minor": 5
}
