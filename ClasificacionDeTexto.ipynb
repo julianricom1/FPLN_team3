{
 "cells": [
  {
   "cell_type": "code",
   "execution_count": 1,
   "id": "f005da3d-8bdc-406b-9bf3-9e9f98f1ebf3",
   "metadata": {
    "ExecuteTime": {
     "end_time": "2025-03-08T02:43:12.890774Z",
     "start_time": "2025-03-08T02:43:08.050407Z"
    }
   },
   "outputs": [],
   "source": [
    "# Librerias\n",
    "\n",
    "import pandas as pd\n",
    "import numpy as np\n",
    "import matplotlib.pyplot as plt\n",
    "from sklearn.model_selection import train_test_split\n",
    "# from sklearn.preprocessing import RobustScaler\n",
    "# from sklearn.decomposition import PCA\n",
    "# from sklearn.metrics import confusion_matrix, accuracy_score , average_precision_score, f1_score, classification_report, precision_recall_curve, auc\n",
    "from sklearn.pipeline import Pipeline\n",
    "from sklearn.model_selection import KFold, GridSearchCV, RandomizedSearchCV\n",
    "from xgboost.sklearn import XGBClassifier"
   ]
  },
  {
   "cell_type": "code",
   "execution_count": 2,
   "id": "4e1abb77-a15d-4418-bf1f-d1c452795991",
   "metadata": {
    "ExecuteTime": {
     "end_time": "2025-03-08T02:43:15.125372Z",
     "start_time": "2025-03-08T02:43:15.108934Z"
    }
   },
   "outputs": [
    {
     "data": {
      "text/html": [
       "<div>\n",
       "<style scoped>\n",
       "    .dataframe tbody tr th:only-of-type {\n",
       "        vertical-align: middle;\n",
       "    }\n",
       "\n",
       "    .dataframe tbody tr th {\n",
       "        vertical-align: top;\n",
       "    }\n",
       "\n",
       "    .dataframe thead th {\n",
       "        text-align: right;\n",
       "    }\n",
       "</style>\n",
       "<table border=\"1\" class=\"dataframe\">\n",
       "  <thead>\n",
       "    <tr style=\"text-align: right;\">\n",
       "      <th></th>\n",
       "      <th>ID</th>\n",
       "      <th>label</th>\n",
       "    </tr>\n",
       "  </thead>\n",
       "  <tbody>\n",
       "    <tr>\n",
       "      <th>0</th>\n",
       "      <td>1</td>\n",
       "      <td>0</td>\n",
       "    </tr>\n",
       "    <tr>\n",
       "      <th>1</th>\n",
       "      <td>2</td>\n",
       "      <td>0</td>\n",
       "    </tr>\n",
       "    <tr>\n",
       "      <th>2</th>\n",
       "      <td>3</td>\n",
       "      <td>0</td>\n",
       "    </tr>\n",
       "    <tr>\n",
       "      <th>3</th>\n",
       "      <td>4</td>\n",
       "      <td>0</td>\n",
       "    </tr>\n",
       "    <tr>\n",
       "      <th>4</th>\n",
       "      <td>5</td>\n",
       "      <td>0</td>\n",
       "    </tr>\n",
       "  </tbody>\n",
       "</table>\n",
       "</div>"
      ],
      "text/plain": [
       "   ID  label\n",
       "0   1      0\n",
       "1   2      0\n",
       "2   3      0\n",
       "3   4      0\n",
       "4   5      0"
      ]
     },
     "execution_count": 2,
     "metadata": {},
     "output_type": "execute_result"
    }
   ],
   "source": [
    "# Ver el ejemplo de entrega\n",
    "\n",
    "submission_example = pd.read_csv('data/sample_submission.csv', sep = ',')\n",
    "submission_example.head(5)"
   ]
  },
  {
   "cell_type": "code",
   "execution_count": 3,
   "id": "9bce9069-f041-449b-98d2-4a97cb0ffd48",
   "metadata": {
    "ExecuteTime": {
     "end_time": "2025-03-08T02:43:18.242512Z",
     "start_time": "2025-03-08T02:43:18.122323Z"
    }
   },
   "outputs": [
    {
     "name": "stdout",
     "output_type": "stream",
     "text": [
      "Total de datos = 181452\n"
     ]
    },
    {
     "data": {
      "text/html": [
       "<div>\n",
       "<style scoped>\n",
       "    .dataframe tbody tr th:only-of-type {\n",
       "        vertical-align: middle;\n",
       "    }\n",
       "\n",
       "    .dataframe tbody tr th {\n",
       "        vertical-align: top;\n",
       "    }\n",
       "\n",
       "    .dataframe thead th {\n",
       "        text-align: right;\n",
       "    }\n",
       "</style>\n",
       "<table border=\"1\" class=\"dataframe\">\n",
       "  <thead>\n",
       "    <tr style=\"text-align: right;\">\n",
       "      <th></th>\n",
       "      <th>text</th>\n",
       "      <th>book</th>\n",
       "      <th>label</th>\n",
       "    </tr>\n",
       "  </thead>\n",
       "  <tbody>\n",
       "    <tr>\n",
       "      <th>0</th>\n",
       "      <td>Look at his legs!”\\n“Confound you handsome you...</td>\n",
       "      <td>Middlemarch</td>\n",
       "      <td>1</td>\n",
       "    </tr>\n",
       "    <tr>\n",
       "      <th>1</th>\n",
       "      <td>Meanwhile Mr. Pickwick had been wheeled to the...</td>\n",
       "      <td>The_Pickwick_Papers</td>\n",
       "      <td>0</td>\n",
       "    </tr>\n",
       "    <tr>\n",
       "      <th>2</th>\n",
       "      <td>Rose had been in high spirits, too, and they h...</td>\n",
       "      <td>Oliver_Twist</td>\n",
       "      <td>0</td>\n",
       "    </tr>\n",
       "    <tr>\n",
       "      <th>3</th>\n",
       "      <td>He\\nheld his breath, and listened at the key-h...</td>\n",
       "      <td>The_Pickwick_Papers</td>\n",
       "      <td>0</td>\n",
       "    </tr>\n",
       "    <tr>\n",
       "      <th>4</th>\n",
       "      <td>On hearing this most unexpected sound, Mr. Bum...</td>\n",
       "      <td>Oliver_Twist</td>\n",
       "      <td>0</td>\n",
       "    </tr>\n",
       "  </tbody>\n",
       "</table>\n",
       "</div>"
      ],
      "text/plain": [
       "                                                text                 book  \\\n",
       "0  Look at his legs!”\\n“Confound you handsome you...          Middlemarch   \n",
       "1  Meanwhile Mr. Pickwick had been wheeled to the...  The_Pickwick_Papers   \n",
       "2  Rose had been in high spirits, too, and they h...         Oliver_Twist   \n",
       "3  He\\nheld his breath, and listened at the key-h...  The_Pickwick_Papers   \n",
       "4  On hearing this most unexpected sound, Mr. Bum...         Oliver_Twist   \n",
       "\n",
       "   label  \n",
       "0      1  \n",
       "1      0  \n",
       "2      0  \n",
       "3      0  \n",
       "4      0  "
      ]
     },
     "execution_count": 3,
     "metadata": {},
     "output_type": "execute_result"
    }
   ],
   "source": [
    "# Importar los datos\n",
    "\n",
    "training_raw = pd.read_csv('data/train.csv', sep = ',')\n",
    "print(f'Total de datos = {training_raw.size}')\n",
    "training_raw.head(5)"
   ]
  },
  {
   "cell_type": "code",
   "execution_count": 4,
   "id": "2aa5a54b-8551-40b2-a4d6-4f42c17fd41f",
   "metadata": {
    "ExecuteTime": {
     "end_time": "2025-03-08T02:43:20.886418Z",
     "start_time": "2025-03-08T02:43:20.785278Z"
    }
   },
   "outputs": [
    {
     "name": "stdout",
     "output_type": "stream",
     "text": [
      "Muestras para la clase 1: 16263\n",
      "Muestras para la clase 0: 26096\n",
      "Muestras para la clase 2: 9585\n",
      "Muestras para la clase 3: 4448\n",
      "Muestras para la clase 4: 4092\n"
     ]
    },
    {
     "data": {
      "image/png": "[encoded data removed]",
      "text/plain": [
       "<Figure size 300x300 with 1 Axes>"
      ]
     },
     "metadata": {},
     "output_type": "display_data"
    }
   ],
   "source": [
    "# Checkear las etiquetas\n",
    "\n",
    "labels = training_raw['label'].unique()\n",
    "plt.figure(figsize = (3, 3)) \n",
    "training_raw['label'].value_counts().plot(kind='pie')\n",
    "\n",
    "for x in labels:\n",
    "    count = training_raw['label'].value_counts().get(x, 0)\n",
    "    print(f'Muestras para la clase {x}: {count}')"
   ]
  },
  {
   "cell_type": "code",
   "execution_count": 5,
   "id": "6c344f66-ce94-4e6c-b8a3-6f15b3e25698",
   "metadata": {
    "ExecuteTime": {
     "end_time": "2025-03-08T02:43:41.417740Z",
     "start_time": "2025-03-08T02:43:41.362478Z"
    }
   },
   "outputs": [
    {
     "name": "stdout",
     "output_type": "stream",
     "text": [
      "Duplicados: 3\n",
      "Nulos: 0\n"
     ]
    }
   ],
   "source": [
    "# Verificación de Duplicados y datos incompletos\n",
    "\n",
    "print(f'Duplicados: {training_raw.duplicated().sum()}')\n",
    "print(f'Nulos: {training_raw.isna().sum().sum()}')"
   ]
  },
  {
   "cell_type": "code",
   "execution_count": 10,
   "id": "eb3632a0-acd0-407b-81aa-b5a6058d5e05",
   "metadata": {
    "ExecuteTime": {
     "end_time": "2025-03-08T02:45:27.906772Z",
     "start_time": "2025-03-08T02:45:27.809538Z"
    }
   },
   "outputs": [
    {
     "name": "stdout",
     "output_type": "stream",
     "text": [
      "Duplicados: 0\n"
     ]
    }
   ],
   "source": [
    "# Eliminar Duplicados\n",
    "print(f'Duplicados: {training_raw.duplicated().sum()}')\n",
    "training_raw = training_raw.drop_duplicates()\n",
    "print(f'Duplicados: {training_raw.duplicated().sum()}')"
   ]
  },
  {
   "cell_type": "code",
   "execution_count": 8,
   "id": "434b515d-7ee1-4caa-8e35-fdea96ed1009",
   "metadata": {
    "ExecuteTime": {
     "end_time": "2025-03-08T02:43:48.714579Z",
     "start_time": "2025-03-08T02:43:48.712058Z"
    }
   },
   "outputs": [],
   "source": [
    "# Balanceo de los datos quizas?"
   ]
  },
  {
   "cell_type": "code",
   "execution_count": 6,
   "id": "bb17a3f6-764e-48a6-a0b3-2d901dc8f417",
   "metadata": {
    "ExecuteTime": {
     "end_time": "2025-03-08T02:43:44.270421Z",
     "start_time": "2025-03-08T02:43:44.261832Z"
    }
   },
   "outputs": [],
   "source": [
    "# Split de los datos\n",
    "\n",
    "X = training_raw['text']\n",
    "y = training_raw['label']\n",
    "X_train, X_test, y_train, y_test = train_test_split(X, y, test_size=0.2)"
   ]
  },
  {
   "cell_type": "code",
   "execution_count": 9,
   "id": "84e2e656-358d-4f2a-8cd8-09aecc29ea22",
   "metadata": {
    "ExecuteTime": {
     "end_time": "2025-03-08T02:43:53.522781Z",
     "start_time": "2025-03-08T02:43:53.520362Z"
    }
   },
   "outputs": [],
   "source": [
    "# Procesamiento de los datos\n",
    "\n",
    "pipeline_procesamiento_datos = Pipeline(steps=[\n",
    "    # tokenizar\n",
    "    # otros procesos\n",
    "])"
   ]
  },
  {
   "cell_type": "code",
   "execution_count": 10,
   "id": "e79e4098-6d58-4adf-89f3-9e645e8a3c09",
   "metadata": {},
   "outputs": [],
   "source": [
    "# Aplicar el pipeline\n",
    "\n",
    "# X_train_final = pipeline_procesamiento_datos.fit_transform(X_train)\n",
    "# X_train_final = pd.DataFrame(X_train_final)\n",
    "\n",
    "# X_test_final = pipeline_procesamiento_datos.transform(X_test)\n",
    "# X_test_final = pd.DataFrame(X_test_final)"
   ]
  },
  {
   "cell_type": "code",
   "execution_count": null,
   "id": "1e2ae0b2-d461-438b-82ec-3467b59a9cfe",
   "metadata": {},
   "outputs": [],
   "source": []
  },
  {
   "cell_type": "code",
   "execution_count": null,
   "id": "81d46ccc-c875-4497-8851-f6a08a739691",
   "metadata": {},
   "outputs": [],
   "source": []
  },
  {
   "cell_type": "code",
   "execution_count": 11,
   "id": "fc17c89a-bedc-4505-ade5-7b9c3ad75f93",
   "metadata": {},
   "outputs": [],
   "source": [
    "# XGBoost con costos\n",
    "\n",
    "# params_xgboost = {\n",
    "#     'n_estimators': [100, 200, 300, 400, 500],\n",
    "#     'learning_rate': [0.01, 0.1, 0.2],\n",
    "#     'max_depth': [3, 5, 7]\n",
    "# }\n",
    "\n",
    "# grid_xgboost = GridSearchCV(XGBClassifier(scale_pos_weight = c0/c1), param_grid = params_xgboost, scoring = 'roc_auc', n_jobs = -1, verbose = 3)\n",
    "# grid_xgboost.fit(X_train_final, y_train)\n",
    "# best_xgboost = grid_xgboost.best_estimator_\n",
    "# y_pred_xgboost = best_xgboost.predict(X_test_final)\n",
    "# print(classification_report(y_test, y_pred_xgboost))\n",
    "# print(\"Mejor XGBoost:\", grid_xgboost.best_params_)\n",
    "\n",
    "# lr_precision, lr_recall, _ = precision_recall_curve(y_test, y_pred_xgboost)\n",
    "# lr_auc = auc(lr_recall, lr_precision)\n",
    "# print(f' El área bajo la curva AUC con XGBoost es: {round(lr_auc,3)}')"
   ]
  }
 ],
 "metadata": {
  "kernelspec": {
   "display_name": "Python 3 (ipykernel)",
   "language": "python",
   "name": "python3"
  },
  "language_info": {
   "codemirror_mode": {
    "name": "ipython",
    "version": 3
   },
   "file_extension": ".py",
   "mimetype": "text/x-python",
   "name": "python",
   "nbconvert_exporter": "python",
   "pygments_lexer": "ipython3",
   "version": "3.11.0"
  }
 },
 "nbformat": 4,
 "nbformat_minor": 5
}
