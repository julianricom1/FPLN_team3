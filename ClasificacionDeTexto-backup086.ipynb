{
 "cells": [
  {
   "cell_type": "code",
   "execution_count": 1,
   "id": "f005da3d-8bdc-406b-9bf3-9e9f98f1ebf3",
   "metadata": {
    "ExecuteTime": {
     "end_time": "2025-03-08T02:43:12.890774Z",
     "start_time": "2025-03-08T02:43:08.050407Z"
    }
   },
   "outputs": [
    {
     "data": {
      "text/plain": [
       "True"
      ]
     },
     "execution_count": 1,
     "metadata": {},
     "output_type": "execute_result"
    }
   ],
   "source": [
    "# Librerias\n",
    "\n",
    "import pandas as pd\n",
    "import numpy as np\n",
    "import seaborn as sns\n",
    "import joblib\n",
    "import nltk\n",
    "from nltk.corpus import stopwords\n",
    "import re\n",
    "import time\n",
    "import matplotlib.pyplot as plt\n",
    "from gensim.models import Word2Vec\n",
    "from sklearn.preprocessing import MaxAbsScaler\n",
    "from sklearn.model_selection import train_test_split\n",
    "from sklearn.metrics import classification_report, accuracy_score, precision_score, recall_score, f1_score, confusion_matrix\n",
    "from sklearn.pipeline import Pipeline, FeatureUnion\n",
    "from sklearn.feature_extraction.text import TfidfVectorizer\n",
    "from sklearn.linear_model import LogisticRegression\n",
    "from imblearn.over_sampling import RandomOverSampler\n",
    "from sklearn.naive_bayes import MultinomialNB\n",
    "from sklearn.preprocessing import FunctionTransformer\n",
    "from nltk import RegexpTokenizer\n",
    "from sklearn.decomposition import TruncatedSVD \n",
    "\n",
    "from sklearn.base import BaseEstimator, TransformerMixin\n",
    "nltk.download('stopwords', quiet=True)\n",
    "nltk.download('wordnet', quiet=True)"
   ]
  },
  {
   "cell_type": "code",
   "execution_count": 2,
   "id": "4e1abb77-a15d-4418-bf1f-d1c452795991",
   "metadata": {
    "ExecuteTime": {
     "end_time": "2025-03-08T02:43:15.125372Z",
     "start_time": "2025-03-08T02:43:15.108934Z"
    }
   },
   "outputs": [
    {
     "data": {
      "text/html": [
       "<div>\n",
       "<style scoped>\n",
       "    .dataframe tbody tr th:only-of-type {\n",
       "        vertical-align: middle;\n",
       "    }\n",
       "\n",
       "    .dataframe tbody tr th {\n",
       "        vertical-align: top;\n",
       "    }\n",
       "\n",
       "    .dataframe thead th {\n",
       "        text-align: right;\n",
       "    }\n",
       "</style>\n",
       "<table border=\"1\" class=\"dataframe\">\n",
       "  <thead>\n",
       "    <tr style=\"text-align: right;\">\n",
       "      <th></th>\n",
       "      <th>ID</th>\n",
       "      <th>label</th>\n",
       "    </tr>\n",
       "  </thead>\n",
       "  <tbody>\n",
       "    <tr>\n",
       "      <th>5110</th>\n",
       "      <td>5111</td>\n",
       "      <td>0</td>\n",
       "    </tr>\n",
       "    <tr>\n",
       "      <th>5111</th>\n",
       "      <td>5112</td>\n",
       "      <td>0</td>\n",
       "    </tr>\n",
       "    <tr>\n",
       "      <th>5112</th>\n",
       "      <td>5113</td>\n",
       "      <td>0</td>\n",
       "    </tr>\n",
       "    <tr>\n",
       "      <th>5113</th>\n",
       "      <td>5114</td>\n",
       "      <td>0</td>\n",
       "    </tr>\n",
       "    <tr>\n",
       "      <th>5114</th>\n",
       "      <td>5115</td>\n",
       "      <td>0</td>\n",
       "    </tr>\n",
       "  </tbody>\n",
       "</table>\n",
       "</div>"
      ],
      "text/plain": [
       "        ID  label\n",
       "5110  5111      0\n",
       "5111  5112      0\n",
       "5112  5113      0\n",
       "5113  5114      0\n",
       "5114  5115      0"
      ]
     },
     "execution_count": 2,
     "metadata": {},
     "output_type": "execute_result"
    }
   ],
   "source": [
    "# Ver el ejemplo de entrega\n",
    "\n",
    "submission_example = pd.read_csv('data/sample_submission.csv')\n",
    "submission_example.tail(5)"
   ]
  },
  {
   "cell_type": "code",
   "execution_count": 3,
   "id": "9bce9069-f041-449b-98d2-4a97cb0ffd48",
   "metadata": {
    "ExecuteTime": {
     "end_time": "2025-03-08T02:43:18.242512Z",
     "start_time": "2025-03-08T02:43:18.122323Z"
    }
   },
   "outputs": [
    {
     "name": "stdout",
     "output_type": "stream",
     "text": [
      "Total de datos = 181452\n"
     ]
    },
    {
     "data": {
      "text/html": [
       "<div>\n",
       "<style scoped>\n",
       "    .dataframe tbody tr th:only-of-type {\n",
       "        vertical-align: middle;\n",
       "    }\n",
       "\n",
       "    .dataframe tbody tr th {\n",
       "        vertical-align: top;\n",
       "    }\n",
       "\n",
       "    .dataframe thead th {\n",
       "        text-align: right;\n",
       "    }\n",
       "</style>\n",
       "<table border=\"1\" class=\"dataframe\">\n",
       "  <thead>\n",
       "    <tr style=\"text-align: right;\">\n",
       "      <th></th>\n",
       "      <th>text</th>\n",
       "      <th>book</th>\n",
       "      <th>label</th>\n",
       "    </tr>\n",
       "  </thead>\n",
       "  <tbody>\n",
       "    <tr>\n",
       "      <th>60479</th>\n",
       "      <td>Reflecting on what had been thus told me, I fe...</td>\n",
       "      <td>David_Copperfield</td>\n",
       "      <td>0</td>\n",
       "    </tr>\n",
       "    <tr>\n",
       "      <th>60480</th>\n",
       "      <td>He so near her, and in misery.\\r\\nShe was\\r\\nr...</td>\n",
       "      <td>Mansfield_Park</td>\n",
       "      <td>2</td>\n",
       "    </tr>\n",
       "    <tr>\n",
       "      <th>60481</th>\n",
       "      <td>‘We are going to Mr. Wickfield’s\\r\\nfirst.’\\r\\...</td>\n",
       "      <td>David_Copperfield</td>\n",
       "      <td>0</td>\n",
       "    </tr>\n",
       "    <tr>\n",
       "      <th>60482</th>\n",
       "      <td>The elder Mr. Weller drove a coach for twelve ...</td>\n",
       "      <td>The_Pickwick_Papers</td>\n",
       "      <td>0</td>\n",
       "    </tr>\n",
       "    <tr>\n",
       "      <th>60483</th>\n",
       "      <td>Had he put his gold somewhere\\r\\nelse, by a su...</td>\n",
       "      <td>Silas_Marner</td>\n",
       "      <td>1</td>\n",
       "    </tr>\n",
       "  </tbody>\n",
       "</table>\n",
       "</div>"
      ],
      "text/plain": [
       "                                                    text                 book  \\\n",
       "60479  Reflecting on what had been thus told me, I fe...    David_Copperfield   \n",
       "60480  He so near her, and in misery.\\r\\nShe was\\r\\nr...       Mansfield_Park   \n",
       "60481  ‘We are going to Mr. Wickfield’s\\r\\nfirst.’\\r\\...    David_Copperfield   \n",
       "60482  The elder Mr. Weller drove a coach for twelve ...  The_Pickwick_Papers   \n",
       "60483  Had he put his gold somewhere\\r\\nelse, by a su...         Silas_Marner   \n",
       "\n",
       "       label  \n",
       "60479      0  \n",
       "60480      2  \n",
       "60481      0  \n",
       "60482      0  \n",
       "60483      1  "
      ]
     },
     "execution_count": 3,
     "metadata": {},
     "output_type": "execute_result"
    }
   ],
   "source": [
    "# Importar los datos\n",
    "\n",
    "training_raw = pd.read_csv('data/train.csv')\n",
    "print(f'Total de datos = {training_raw.size}')\n",
    "training_raw.tail(5)"
   ]
  },
  {
   "cell_type": "code",
   "execution_count": 4,
   "id": "bb17a3f6-764e-48a6-a0b3-2d901dc8f417",
   "metadata": {
    "ExecuteTime": {
     "end_time": "2025-03-08T02:43:44.270421Z",
     "start_time": "2025-03-08T02:43:44.261832Z"
    }
   },
   "outputs": [
    {
     "name": "stdout",
     "output_type": "stream",
     "text": [
      "Ejemplo de X_train:\n",
      " The_Pickwick_Papers Mr. Snodgrass acknowledged the compliment.\n",
      "'I always like to hear a good argument,' continued the bagman, 'a sharp\n",
      "one, like this: it's very improving; but this little argument about\n",
      "women brought to my mind a story I have heard an old uncle of mine tell,\n",
      "the recollection of which, just now, made me say there were rummer\n",
      "things than women to be met with, sometimes.'\n",
      "\n",
      "Ejemplo de X_test:\n",
      " “Will you go along with me, Oliver?” said Mr. Bumble, in a majestic\n",
      "voice.\n"
     ]
    }
   ],
   "source": [
    "X = training_raw['text']  # Solo el texto\n",
    "L = training_raw['book']  # Nombre del libro\n",
    "y = training_raw['label']  # Etiquetas\n",
    "\n",
    "# Dividir en train y test\n",
    "X_train, X_test, y_train, y_test, L_train, L_test = train_test_split(X, y, L, test_size = 0.2)\n",
    "\n",
    "# Ingenieria de caracteristicas\n",
    "X_train = L_train.fillna(\"\") + \" \" + X_train.fillna(\"\")\n",
    "\n",
    "# Aplicar oversampling\n",
    "ros = RandomOverSampler(sampling_strategy='all')    \n",
    "X_train, y_train = ros.fit_resample(pd.DataFrame(X_train), pd.DataFrame(y_train))\n",
    "\n",
    "# Convertir correctamente a listas después de oversampling\n",
    "X_train = X_train.iloc[:, 0].tolist()\n",
    "y_train = y_train.iloc[:, 0].tolist()\n",
    "\n",
    "# Verificar ejemplos\n",
    "print(\"Ejemplo de X_train:\\n\", X_train[0])  # Con book concatenado\n",
    "print(\"\\nEjemplo de X_test:\\n\", X_test.iloc[0])  # Sin book concatenado"
   ]
  },
  {
   "cell_type": "code",
   "execution_count": 5,
   "id": "1e2ae0b2-d461-438b-82ec-3467b59a9cfe",
   "metadata": {},
   "outputs": [],
   "source": [
    "class TextClassifier(BaseEstimator, TransformerMixin):\n",
    "    \"\"\"\n",
    "    A text processing class for text classification. This transformer handles tokenization,\n",
    "    text cleaning, and transforms text data into a TF-IDF representation, then classifies\n",
    "    it using Naive Bayes.\n",
    "    \"\"\"\n",
    "    def __init__(self, token_cue=r'\\w+', language='english'):\n",
    "        self.language = language\n",
    "        self.token_cue = token_cue\n",
    "        self.tokenizer = RegexpTokenizer(self.token_cue)\n",
    "        self.scaler = MaxAbsScaler()\n",
    "        self.vectorizer = TfidfVectorizer(sublinear_tf=True,strip_accents = 'ascii', lowercase = False, max_df=0.8, ngram_range=(1, 2))\n",
    "        self.classifier = MultinomialNB()  \n",
    "\n",
    "    def fit(self, text, y):\n",
    "        \"\"\" Ajusta el vectorizador y entrena el clasificador Naive Bayes \"\"\"\n",
    "        processed_text = self.preprocess_text(text)\n",
    "        processed_text = [' '.join(tokens) for tokens in processed_text]  # Convertir listas a strings\n",
    "        \n",
    "        X_vectors = self.vectorizer.fit_transform(processed_text)  # Vectorización de texto\n",
    "        X_vectors = self.scaler.fit_transform(X_vectors)  # Normalizar con el scaler\n",
    "        self.classifier.fit(X_vectors, y)  # Entrenar el clasificador\n",
    "        return self\n",
    "\n",
    "    def transform(self, text):\n",
    "        \"\"\" Transforma el texto a su representación TF-IDF \"\"\"\n",
    "        processed_text = self.preprocess_text(text)\n",
    "        processed_text = [' '.join(tokens) for tokens in processed_text]  # Convertir listas a strings\n",
    "        \n",
    "        X_vectors = self.vectorizer.transform(processed_text)\n",
    "        return self.scaler.transform(X_vectors)\n",
    "\n",
    "    def predict(self, X):\n",
    "        \"\"\" Predice etiquetas de clase para los textos de entrada \"\"\"\n",
    "        X_vectors = self.transform(X)\n",
    "        return self.classifier.predict(X_vectors)\n",
    "\n",
    "    def predict_proba(self, X):\n",
    "        \"\"\" Retorna probabilidades de cada clase para los textos de entrada \"\"\"\n",
    "        X_vectors = self.transform(X)\n",
    "        return self.classifier.predict_proba(X_vectors)\n",
    "\n",
    "    def tokenize(self, text):\n",
    "        \"\"\" Tokeniza el texto \"\"\"\n",
    "        return text.apply(lambda x: self.tokenizer.tokenize(x))\n",
    "\n",
    "    def preprocess_text(self, text):\n",
    "        \"\"\" Limpia y tokeniza el texto, retornando listas de palabras \"\"\"\n",
    "        if isinstance(text, pd.Series):  # Si es un Pandas Series\n",
    "            text = text.tolist()\n",
    "        \n",
    "        processed_text = []\n",
    "        for sentence in text:\n",
    "            #sentence = sentence.lower()  # Convertir a minúsculas\n",
    "            #sentence = re.sub(r'[^a-zA-Z0-9\\s]', '', sentence)  # Eliminar puntuación y caracteres especiales\n",
    "            tokens = self.tokenizer.tokenize(sentence)  # Tokenización\n",
    "            processed_text.append(tokens)  # Guardar lista de tokens\n",
    "\n",
    "        return processed_text"
   ]
  },
  {
   "cell_type": "code",
   "execution_count": 6,
   "id": "e9bb364f-144c-4024-bf48-ec87731c8445",
   "metadata": {
    "scrolled": true
   },
   "outputs": [
    {
     "name": "stdout",
     "output_type": "stream",
     "text": [
      "tiempo de procesamiento: 0.43m\n",
      "              precision    recall  f1-score   support\n",
      "\n",
      "           0       0.94      0.86      0.89      5153\n",
      "           1       0.86      0.89      0.88      3242\n",
      "           2       0.75      0.93      0.83      1953\n",
      "           3       0.82      0.78      0.80       936\n",
      "           4       0.94      0.87      0.90       813\n",
      "\n",
      "    accuracy                           0.87     12097\n",
      "   macro avg       0.86      0.86      0.86     12097\n",
      "weighted avg       0.88      0.87      0.87     12097\n",
      "\n",
      "\n",
      " >> Resultados en Validacion: <<\n",
      "  - F1 Score: 0.8605\n"
     ]
    },
    {
     "data": {
      "image/png": "[encoded data removed]",
      "text/plain": [
       "<Figure size 400x300 with 2 Axes>"
      ]
     },
     "metadata": {},
     "output_type": "display_data"
    }
   ],
   "source": [
    "start = time.time()\n",
    "model = TextClassifier()#token_cue = r'(\\w+\\s+\\w+)')\n",
    "model.fit(X_train, y_train)\n",
    "end = time.time()\n",
    "print(f'tiempo de procesamiento: {((end - start)/60):.2f}m')\n",
    "# Evaluación en conjunto de Evaluacion\n",
    "y_pred = model.predict(X_test)\n",
    "print(classification_report(y_test, y_pred))\n",
    "\n",
    "accuracy = accuracy_score(y_test, y_pred)\n",
    "precision = precision_score(y_test, y_pred, average='macro')\n",
    "recall = recall_score(y_test, y_pred, average='macro')\n",
    "f1 = f1_score(y_test, y_pred, average='macro')\n",
    "\n",
    "print(\"\\n >> Resultados en Validacion: <<\")\n",
    "# print(f\"  - Accuracy: {accuracy:.4f}\")\n",
    "# print(f\"  - Precision: {precision:.4f}\")\n",
    "# print(f\"  - Recall: {recall:.4f}\")\n",
    "print(f\"  - F1 Score: {f1:.4f}\")\n",
    "\n",
    "cm = confusion_matrix(y_test, y_pred)\n",
    "plt.figure(figsize=(4, 3))\n",
    "sns.heatmap(cm, annot=True, fmt='d', cmap='Blues')\n",
    "plt.xlabel(\"Predicción\")\n",
    "plt.ylabel(\"Real\")\n",
    "plt.title(\"Matriz de Confusión\")\n",
    "plt.show()"
   ]
  },
  {
   "cell_type": "code",
   "execution_count": null,
   "id": "84d2bb90-cc8f-4df9-8981-f51fe9a5236c",
   "metadata": {},
   "outputs": [],
   "source": []
  },
  {
   "cell_type": "code",
   "execution_count": 7,
   "id": "fd434d83-4772-4706-a82f-d6615d0e3740",
   "metadata": {},
   "outputs": [],
   "source": [
    "#confusion_matrix(y_test, y_pred)"
   ]
  },
  {
   "cell_type": "code",
   "execution_count": 8,
   "id": "50d76abe-79c7-44fd-b834-a134f8491217",
   "metadata": {},
   "outputs": [
    {
     "name": "stdout",
     "output_type": "stream",
     "text": [
      "Total de datos = 10230\n"
     ]
    },
    {
     "data": {
      "text/html": [
       "<div>\n",
       "<style scoped>\n",
       "    .dataframe tbody tr th:only-of-type {\n",
       "        vertical-align: middle;\n",
       "    }\n",
       "\n",
       "    .dataframe tbody tr th {\n",
       "        vertical-align: top;\n",
       "    }\n",
       "\n",
       "    .dataframe thead th {\n",
       "        text-align: right;\n",
       "    }\n",
       "</style>\n",
       "<table border=\"1\" class=\"dataframe\">\n",
       "  <thead>\n",
       "    <tr style=\"text-align: right;\">\n",
       "      <th></th>\n",
       "      <th>ID</th>\n",
       "      <th>text</th>\n",
       "    </tr>\n",
       "  </thead>\n",
       "  <tbody>\n",
       "    <tr>\n",
       "      <th>5110</th>\n",
       "      <td>5111</td>\n",
       "      <td>I’ll to England.\\r\\nTo Ireland, I.\\r\\nOur sepa...</td>\n",
       "    </tr>\n",
       "    <tr>\n",
       "      <th>5111</th>\n",
       "      <td>5112</td>\n",
       "      <td>250: _to_] F1.\\r\\n_by_ F2 F3 F4.\\r\\n_Keep_] _S...</td>\n",
       "    </tr>\n",
       "    <tr>\n",
       "      <th>5112</th>\n",
       "      <td>5113</td>\n",
       "      <td>Here come two noble beasts in, a man and a lio...</td>\n",
       "    </tr>\n",
       "    <tr>\n",
       "      <th>5113</th>\n",
       "      <td>5114</td>\n",
       "      <td>Therefore I have entreated him along\\r\\nWith u...</td>\n",
       "    </tr>\n",
       "    <tr>\n",
       "      <th>5114</th>\n",
       "      <td>5115</td>\n",
       "      <td>Who calls on Hamlet?\\r\\nO, here they come.\\r\\n...</td>\n",
       "    </tr>\n",
       "  </tbody>\n",
       "</table>\n",
       "</div>"
      ],
      "text/plain": [
       "        ID                                               text\n",
       "5110  5111  I’ll to England.\\r\\nTo Ireland, I.\\r\\nOur sepa...\n",
       "5111  5112  250: _to_] F1.\\r\\n_by_ F2 F3 F4.\\r\\n_Keep_] _S...\n",
       "5112  5113  Here come two noble beasts in, a man and a lio...\n",
       "5113  5114  Therefore I have entreated him along\\r\\nWith u...\n",
       "5114  5115  Who calls on Hamlet?\\r\\nO, here they come.\\r\\n..."
      ]
     },
     "execution_count": 8,
     "metadata": {},
     "output_type": "execute_result"
    }
   ],
   "source": [
    "submission_raw = pd.read_csv('data/test.csv')\n",
    "print(f'Total de datos = {submission_raw.size}')\n",
    "submission_raw.tail(5)"
   ]
  },
  {
   "cell_type": "code",
   "execution_count": 9,
   "id": "4a422eea-124c-4493-a994-7092329b4b57",
   "metadata": {},
   "outputs": [
    {
     "name": "stdout",
     "output_type": "stream",
     "text": [
      "        ID  label\n",
      "5110  5111      4\n",
      "5111  5112      4\n",
      "5112  5113      4\n",
      "5113  5114      0\n",
      "5114  5115      4\n"
     ]
    }
   ],
   "source": [
    "X_submission = submission_raw['text']\n",
    "y_pred_submission = model.predict(X_submission)\n",
    "\n",
    "idx = submission_raw['ID']\n",
    "df = pd.DataFrame({'ID': idx, 'label': y_pred_submission})\n",
    "print(df.tail(5))\n",
    "df.to_csv('submission.csv', index=False)"
   ]
  }
 ],
 "metadata": {
  "kernelspec": {
   "display_name": "Python 3 (ipykernel)",
   "language": "python",
   "name": "python3"
  },
  "language_info": {
   "codemirror_mode": {
    "name": "ipython",
    "version": 3
   },
   "file_extension": ".py",
   "mimetype": "text/x-python",
   "name": "python",
   "nbconvert_exporter": "python",
   "pygments_lexer": "ipython3",
   "version": "3.11.5"
  }
 },
 "nbformat": 4,
 "nbformat_minor": 5
}
